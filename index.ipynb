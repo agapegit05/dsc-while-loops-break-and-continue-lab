{
 "cells": [
  {
   "cell_type": "markdown",
   "metadata": {},
   "source": [
    "# While Loops, Break and Continue - Lab"
   ]
  },
  {
   "cell_type": "markdown",
   "metadata": {},
   "source": [
    "## Introduction\n",
    "In this lab, we will practice using `while` loops, and `break` and `continue` statements in our code. We will use our control flow statements to iterate through collections and filter out or selectively operate on each element. We'll use `while` loops to perform operations until a given condition is no longer true. "
   ]
  },
  {
   "cell_type": "code",
   "execution_count": null,
   "metadata": {},
   "outputs": [
    {
     "name": "stderr",
     "output_type": "stream",
     "text": [
      "IOPub data rate exceeded.\n",
      "The Jupyter server will temporarily stop sending output\n",
      "to the client in order to avoid crashing it.\n",
      "To change this limit, set the config variable\n",
      "`--ServerApp.iopub_data_rate_limit`.\n",
      "\n",
      "Current values:\n",
      "ServerApp.iopub_data_rate_limit=1000000.0 (bytes/sec)\n",
      "ServerApp.rate_limit_window=3.0 (secs)\n",
      "\n"
     ]
    }
   ],
   "source": [
    "total_time_for_breakfast = 1468 \n",
    "number_of_cooked_pancakes = 0\n",
    "cooking_time_per_pancake = 54 \n",
    "number_of_pancakes = 5\n",
    "while number_of_cooked_pancakes < number_of_pancakes:\n",
    "    if number_of_cooked_pancakes == 0:\n",
    "        print(\"start cooking the first pancake\")\n",
    "    elif time_for_breakfast_cooking == 1:\n",
    "        print(\"cooking the second pancake\")\n",
    "    elif time_for_breakfast_cooking == 2:\n",
    "        print(\"cooking the third pancake\")\n",
    "    elif time_for_breakfast_cooking == 3:\n",
    "        print(\"cooking the fourth pancake\")\n",
    "    elif time_for_breakfast_cooking == 4:\n",
    "        print(\"cooking the fifth pancake\")\n",
    "        time_for_breakfast -= cooking_time_per_pancake\n",
    "        number_of_cooked_pancakes += 1\n",
    "print(\"All pancakes are cooked.\")\n",
    "print(\"Time left for breakfast:\",time_for_breakfast,\"seconds\")\n",
    "#print(\"remaining time for breakfast:\",time_for_breakfast"
   ]
  },
  {
   "cell_type": "markdown",
   "metadata": {},
   "source": [
    "## Objectives\n",
    "You will be able to:\n",
    "\n",
    "* Use a `while` loop\n",
    "* Use `break` and `continue` to add control flow to a `while` loop"
   ]
  },
  {
   "cell_type": "markdown",
   "metadata": {},
   "source": [
    "## Instructions\n",
    "\n",
    "### While Loops\n",
    "\n",
    "Imagine a person named Agnes is finally ready to achieve her dream of becoming a competitive eater! Because the competition is so fierce, she knows she'll need to do lots of training to become number one.\n",
    "\n",
    "Her first regiment of training consists of eating pizza. Below is a `for` loop version of her training process. Using your knowledge of `while` loops, translate the pizza eating code below from a `for` loop to a `while` loop."
   ]
  },
  {
   "cell_type": "code",
   "execution_count": null,
   "metadata": {},
   "outputs": [],
   "source": [
    "slices_of_pie = 6\n",
    "slices_eaten = 0\n",
    "\n",
    "for slice in range(slices_of_pie):\n",
    "    print('Another slice eaten!')\n",
    "    slices_eaten += 1\n",
    "    print('Now eaten {} slices!'.format(slices_eaten))"
   ]
  },
  {
   "cell_type": "code",
   "execution_count": null,
   "metadata": {},
   "outputs": [],
   "source": [
    "slices_of_pie = 6\n",
    "slices_eaten = 0\n",
    "# add your while loop here that achieves the same results as the for loop above\n",
    "while slices_of_pie > slices_eaten :\n",
    " print('Another slice eaten!')\n",
    " slices_eaten += 1\n",
    " print('Now eaten {} slices!'.format(slices_eaten)) "
   ]
  },
  {
   "cell_type": "markdown",
   "metadata": {},
   "source": [
    "After a long night of training with pizza, Agnes sleeps like a rock. When she wakes up in the morning, she realizes that her journey is not over. It has only just begun! In the next cell, continue her training; this time she'll be eating pancakes. None of the pancakes are prepared yet, and she wants to determine how much time she'll have left over after making all the pancakes. Here are the important details:\n",
    "\n",
    "* Agnes has 1468 seconds allotted for breakfast today\n",
    "* Agnes will be making herself 5 pancakes\n",
    "* Each pancake takes 27 seconds to cook on each side\n",
    "* It takes an average of 5 seconds to either flip a pancake, add it or remove it from the pan\n",
    "* There is only room for one pancake at a time on the frying pan\n",
    "* Remember there are two sides to every pancake!  \n",
    "\n",
    "After Agnes cooks the 5 pancakes, how much time will she have left over to eat them? Use a while loop to find out below."
   ]
  },
  {
   "cell_type": "code",
   "execution_count": null,
   "metadata": {},
   "outputs": [],
   "source": [
    "time_for_breakfast = 1468 # in seconds\n",
    "number_of_cooked_pancakes = 0 ## she wants to cook 5 of them.\n",
    "\n",
    "# write your while loop here\n",
    "\n",
    "# use a while loop to make 5 pancakes for breakfast\n",
    "# each pancake takes 27 seconds to cook on each side\n",
    "# it takes an average of 5 seconds to flip a pancake, add or remove a pancake from the pan.\n",
    "# you must decrease the time_for_breakfast each time you \n",
    "# add a pancake to the skillet (frying pan) or flip a pancake (i.e. 2 times per pancake)\n",
    "# there is only room for one pancake at a time\n",
    "\n",
    "\n",
    "# print out how much time is remaining\n",
    "total_time_for_breakfast = 1468 \n",
    "number_of_cooked_pancakes = 0\n",
    "cooking_time_per_pancake = 27*2\n",
    "number_of_pancakes = 5\n",
    "while number_of_cooked_pancakes < number_of_pancakes:\n",
    "    if number_of_cooked_pancakes == 0:\n",
    "        print(\"start cooking the first pancake\")\n",
    "    elif time_for_breakfast_cooking == 1:\n",
    "        print(\"cooking the second pancake\")\n",
    "    elif time_for_breakfast_cooking == 2:\n",
    "        print(\"cooking the third pancake\")\n",
    "    elif time_for_breakfast_cooking == 3:\n",
    "        print(\"cooking the fourth pancake\")\n",
    "    elif time_for_breakfast_cooking == 4:\n",
    "        print(\"cooking the fifth pancake\")\n",
    "        time_for_breakfast -= cooking_time_per_pancake\n",
    "        number_of_cooked_pancakes += 1\n",
    "print(\"All pancakes are cooked.\")\n",
    "print(\"Time left for breakfast:\",time_for_breakfast,\"seconds\")\n",
    "#print(\"remaining time for breakfast:\",time_for_breakfast)"
   ]
  },
  {
   "cell_type": "code",
   "execution_count": null,
   "metadata": {},
   "outputs": [],
   "source": [
    "27*2"
   ]
  },
  {
   "cell_type": "markdown",
   "metadata": {},
   "source": [
    "## For Loops"
   ]
  },
  {
   "cell_type": "markdown",
   "metadata": {},
   "source": [
    "Fast forward 5 years, and Agnes has become an international competitive eating superstar. Using her starpower, she decides to open up a restaurant chain. As part of a promotional deal, at a grand opening, she tells her fans that if they are part of the first 30 people to the restaurant, there is a 50% chance that they'll receive free food. Agnes executes this by giving each of the first 30 people a number ranging from 0-29. All people who have an even number will receive free food, and all those with odd numbers will sadly remain hungry :(. Use a loop to create two lists below of:\n",
    "\n",
    "* `hungry_patrons`\n",
    "* `fed_patrons`\n",
    "\n",
    "All people will start out in the list of `hungry_patrons`, and only the lucky ones will move to `fed_patrons`.\n",
    "\n",
    "> **Hint:** You may find the [remove method](https://www.programiz.com/python-programming/methods/list/remove) to be useful for the next problem"
   ]
  },
  {
   "cell_type": "code",
   "execution_count": null,
   "metadata": {},
   "outputs": [],
   "source": [
    "line_of_hungry_patrons = list(range(0,30))\n",
    "fed_patrons = []\n",
    "# use a for or while loop to feed the hungry patrons who have an even number\n",
    "# add the patrons with an even number to the fed_patrons list\n",
    "# then remove the even numbered patrons from the line_of_hungry_patrons\n",
    "# each list should contain 15 elements"
   ]
  },
  {
   "cell_type": "code",
   "execution_count": 17,
   "metadata": {},
   "outputs": [
    {
     "name": "stdout",
     "output_type": "stream",
     "text": [
      "[1, 3, 5, 7, 9, 11, 13, 15, 17, 19, 21, 23, 25, 27, 29]\n",
      "[0, 2, 4, 6, 8, 10, 12, 14, 16, 18, 20, 22, 24, 26, 28]\n"
     ]
    }
   ],
   "source": [
    "line_of_hungry_patrons = list(range(0,30)) #numbers from 0-29\n",
    "fed_patrons = []                           #empty list of fed_patrons.\n",
    "for p in line_of_hungry_patrons:           #iterate through each number in the list of hungry patrons.\n",
    " #checking if the number is even\n",
    "    if p%2 == 0:\n",
    "       fed_patrons.append(p)               #then if it is even add to the list of fed patrons.\n",
    "       line_of_hungry_patrons.remove(p)    # remove the even number from the list of hungry patrons.\n",
    "       continue\n",
    "                                           #check if the list has reached 15 elements.\n",
    "    if len(fed_patrons) >= 15:         #the loop break comes in.\n",
    "       break\n",
    "print(line_of_hungry_patrons)              #then print the line_of_hungry_patrons\n",
    "print(fed_patrons)                         #then print the fed patrons"
   ]
  },
  {
   "cell_type": "markdown",
   "metadata": {},
   "source": [
    "### `break` And `continue` Statements"
   ]
  },
  {
   "cell_type": "markdown",
   "metadata": {},
   "source": [
    "Agnes decides that she wants to start creating targeted advertisements for people. Here is a list of customer objects with information about their name, age, job, pet, and pet name. You'll use loops to find people that meet certain requirements for Agnes' targeted marketing. Write `for` loops with conditional statements in conjunction with `break` and `continue` to get the desired output."
   ]
  },
  {
   "cell_type": "code",
   "execution_count": 210,
   "metadata": {},
   "outputs": [],
   "source": [
    "people = [\n",
    "    {'name': \"Daniel\", 'age': 29, 'job': \"Engineer\", 'pet': \"Cat\", 'pet_name': \"Gato\"}, \n",
    "    {'name': \"Katie\", 'age': 30, 'job': \"Teacher\", 'pet': \"Dog\", 'pet_name': \"Frank\"},\n",
    "    {'name': \"Owen\", 'age': 26, 'job': \"Sales person\", 'pet': \"Cat\", 'pet_name': \"Cosmo\"},\n",
    "    {'name': \"Josh\", 'age': 22, 'job': \"Student\", 'pet': \"Cat\", 'pet_name': \"Chat\"},\n",
    "    {'name': \"Estelle\", 'age': 35, 'job': \"French Diplomat\", 'pet': \"Dog\", 'pet_name': \"Gabby\"},\n",
    "    {'name': \"Gustav\", 'age': 24, 'job': \"Brewer\", 'pet': \"Dog\", 'pet_name': \"Helen\"}\n",
    "]"
   ]
  },
  {
   "cell_type": "markdown",
   "metadata": {},
   "source": [
    "Use a `for` loop to find the first person in the list of people that has a dog as their pet. The iteration count shouldn't exceed 2. In your loop add a print statement that says\n",
    "\n",
    "```python\n",
    " \"{person} has a dog! Had to check {number} of records to find a dog owner.\"\n",
    "\n",
    "```\n",
    "The code has been started for you below: "
   ]
  },
  {
   "cell_type": "code",
   "execution_count": 114,
   "metadata": {},
   "outputs": [
    {
     "data": {
      "text/plain": [
       "list"
      ]
     },
     "execution_count": 114,
     "metadata": {},
     "output_type": "execute_result"
    }
   ],
   "source": [
    "type(people)"
   ]
  },
  {
   "cell_type": "code",
   "execution_count": 125,
   "metadata": {},
   "outputs": [
    {
     "name": "stdout",
     "output_type": "stream",
     "text": [
      "Daniel has a dog! Had to check 1 of records to find a dog owner.\n",
      "Katie has a dog! Had to check 2 of records to find a dog owner.\n",
      "Owen has a dog! Had to check 3 of records to find a dog owner.\n",
      "Josh has a dog! Had to check 4 of records to find a dog owner.\n",
      "Estelle has a dog! Had to check 5 of records to find a dog owner.\n",
      "Gustav has a dog! Had to check 6 of records to find a dog owner.\n"
     ]
    }
   ],
   "source": [
    "first_dog_person = None\n",
    "iteration_count = 0\n",
    "for i in people:\n",
    "    iteration_count += 1\n",
    "    # Continue writing code here\n",
    "    if i['pet'] == 'Dog':\n",
    "       first_dog_person = i['name']\n",
    "    print(i['name']+ ' ' 'has a dog! Had to check' ' ' + str(iteration_count) + ' '  'of records to find a dog owner.')"
   ]
  },
  {
   "cell_type": "markdown",
   "metadata": {},
   "source": [
    "Now, use a `for` loop to create a list of all the cat owners who are under the age of 28."
   ]
  },
  {
   "cell_type": "code",
   "execution_count": 197,
   "metadata": {},
   "outputs": [
    {
     "name": "stdout",
     "output_type": "stream",
     "text": [
      "['Owen']\n",
      "['Owen', 'Josh']\n"
     ]
    }
   ],
   "source": [
    "cat_owners = []\n",
    "iteration_count = 0\n",
    "# for loop goes here\n",
    "for i in people:\n",
    "    iteration_count += 1\n",
    "    if i['pet'] == 'Cat' and i['age']< 28:\n",
    "        cat_owners.append(i['name'])\n",
    "        print(cat_owners)"
   ]
  },
  {
   "cell_type": "code",
   "execution_count": null,
   "metadata": {},
   "outputs": [],
   "source": []
  },
  {
   "cell_type": "code",
   "execution_count": 183,
   "metadata": {},
   "outputs": [
    {
     "name": "stdout",
     "output_type": "stream",
     "text": [
      "hey you, how was today\n"
     ]
    }
   ],
   "source": [
    "print(\"hey you,\" ' '  + \"how was today\")"
   ]
  },
  {
   "cell_type": "markdown",
   "metadata": {},
   "source": [
    "Use a `for` loop to find the first person who is above 29 years old. Use a print statement to state their name and how old they are."
   ]
  },
  {
   "cell_type": "code",
   "execution_count": 181,
   "metadata": {},
   "outputs": [
    {
     "name": "stdout",
     "output_type": "stream",
     "text": [
      "Katie is 30 years old.\n",
      "Estelle is 35 years old.\n"
     ]
    }
   ],
   "source": [
    "for i in people:\n",
    "    if i['age'] > 29:\n",
    "         print(i['name'] + ' ' 'is' ' '  + str(int(i['age']))+ ' '  'years old.')"
   ]
  },
  {
   "cell_type": "code",
   "execution_count": 195,
   "metadata": {},
   "outputs": [
    {
     "name": "stdout",
     "output_type": "stream",
     "text": [
      "['Katie']\n",
      "['Katie', 'Estelle']\n"
     ]
    }
   ],
   "source": [
    "thirty_something_yr_old = [] #None\n",
    "# for loop goes here\n",
    "for p in people:\n",
    "    if p['age'] > 29:\n",
    "        thirty_something_yr_old.append(p['name'])\n",
    "        print(thirty_something_yr_old)"
   ]
  },
  {
   "cell_type": "markdown",
   "metadata": {},
   "source": [
    "Use a `for` loop to create a list of people's names and another list of pet names for all the **dog owners**."
   ]
  },
  {
   "cell_type": "code",
   "execution_count": null,
   "metadata": {},
   "outputs": [],
   "source": [
    "dog_owner_names = None\n",
    "dog_names = None\n",
    "# for loop goes here"
   ]
  },
  {
   "cell_type": "code",
   "execution_count": 204,
   "metadata": {},
   "outputs": [
    {
     "name": "stdout",
     "output_type": "stream",
     "text": [
      "Daniel\n",
      "Katie\n",
      "Owen\n",
      "Josh\n",
      "Estelle\n",
      "Gustav\n"
     ]
    }
   ],
   "source": [
    "for ple in people: #names of people.\n",
    "    print(ple['name'])"
   ]
  },
  {
   "cell_type": "code",
   "execution_count": 224,
   "metadata": {},
   "outputs": [],
   "source": [
    "dog_owner_names = None\n",
    "dog_names = None\n",
    "for ple in people:        #names of people.\n",
    "    if ple['pet'] == 'dog':\n",
    "        dog_owner_names.append(ple['name'])\n",
    "        dog_names.append(ple['pet'])"
   ]
  },
  {
   "cell_type": "markdown",
   "metadata": {},
   "source": [
    "## Level Up \n",
    "Use a `for` loop to create a list of odd numbers from the list of numbers from 0 to 100. Each time there is an odd number, add 10 to it and append it to `list_of_odd_numbers_plus_ten`. Stop adding numbers to the list when there are 35 numbers in it. Once you have reached 35 numbers, return the sum of the new list of numbers."
   ]
  },
  {
   "cell_type": "code",
   "execution_count": null,
   "metadata": {},
   "outputs": [],
   "source": [
    "list_of_numbers = list(range(0, 100))\n",
    "list_of_odd_numbers_plus_ten = []\n",
    "\n",
    "# use a for loop to create a list of odd numbers from the list of numbers from 0 to 100\n",
    "# each time there is an odd number, add 10 to it and append it to the list_of_odd_numbers_plus_ten\n",
    "# stop adding numbers to the list when there are 35 numbers\n",
    "# use break and continue statements in your code\n",
    "for number in list_of_numbers:\n",
    "    # Continue writing code here"
   ]
  },
  {
   "cell_type": "markdown",
   "metadata": {},
   "source": [
    "## Summary"
   ]
  },
  {
   "cell_type": "markdown",
   "metadata": {},
   "source": [
    "In this lab, we practiced using `while` loops, which continue executing their block of code until the given condition is no longer true. This is useful for instances where we do not have a collection or do not need a collection to solve our problem, especially when we would only like to stop the process according to a certain condition. We then practiced using control flow statements, `break` and `continue`, to selectively operate on elements, append them to new lists, or assign them to new variables."
   ]
  }
 ],
 "metadata": {
  "kernelspec": {
   "display_name": "Python 3 (ipykernel)",
   "language": "python",
   "name": "python3"
  },
  "language_info": {
   "codemirror_mode": {
    "name": "ipython",
    "version": 3
   },
   "file_extension": ".py",
   "mimetype": "text/x-python",
   "name": "python",
   "nbconvert_exporter": "python",
   "pygments_lexer": "ipython3",
   "version": "3.12.2"
  },
  "toc": {
   "base_numbering": 1,
   "nav_menu": {},
   "number_sections": true,
   "sideBar": true,
   "skip_h1_title": false,
   "title_cell": "Table of Contents",
   "title_sidebar": "Contents",
   "toc_cell": false,
   "toc_position": {},
   "toc_section_display": true,
   "toc_window_display": false
  }
 },
 "nbformat": 4,
 "nbformat_minor": 4
}
